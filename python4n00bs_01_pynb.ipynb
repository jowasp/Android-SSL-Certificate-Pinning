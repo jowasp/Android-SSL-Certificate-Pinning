{
  "nbformat": 4,
  "nbformat_minor": 0,
  "metadata": {
    "colab": {
      "name": "python4n00bs_01.pynb",
      "version": "0.3.2",
      "provenance": [],
      "include_colab_link": true
    },
    "kernelspec": {
      "name": "python3",
      "display_name": "Python 3"
    }
  },
  "cells": [
    {
      "cell_type": "markdown",
      "metadata": {
        "id": "view-in-github",
        "colab_type": "text"
      },
      "source": [
        "<a href=\"https://colab.research.google.com/github/jowasp/Android-SSL-Certificate-Pinning/blob/master/python4n00bs_01_pynb.ipynb\" target=\"_parent\"><img src=\"https://colab.research.google.com/assets/colab-badge.svg\" alt=\"Open In Colab\"/></a>"
      ]
    },
    {
      "metadata": {
        "id": "UshFyHB5qxti",
        "colab_type": "code",
        "colab": {
          "base_uri": "https://localhost:8080/",
          "height": 34
        },
        "outputId": "bdc170fd-5bbf-4739-d569-dc38c5c3afd8"
      },
      "cell_type": "code",
      "source": [
        "#Let's diaplay a message on the screen!\n",
        "print(\"Hello There\")"
      ],
      "execution_count": 1,
      "outputs": [
        {
          "output_type": "stream",
          "text": [
            "Hello There\n"
          ],
          "name": "stdout"
        }
      ]
    }
  ]
}